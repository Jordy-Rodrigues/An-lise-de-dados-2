{
  "nbformat": 4,
  "nbformat_minor": 0,
  "metadata": {
    "colab": {
      "name": "Análise de dados 2",
      "provenance": [],
      "collapsed_sections": [],
      "mount_file_id": "1oZ8QdHjBHee3QSQgYZhsba2kjnbEyTWY",
      "authorship_tag": "ABX9TyPLBxKYvrXWASMeKL0PadLg",
      "include_colab_link": true
    },
    "kernelspec": {
      "name": "python3",
      "display_name": "Python 3"
    },
    "language_info": {
      "name": "python"
    }
  },
  "cells": [
    {
      "cell_type": "markdown",
      "metadata": {
        "id": "view-in-github",
        "colab_type": "text"
      },
      "source": [
        "<a href=\"https://colab.research.google.com/github/Jordy-Rodrigues/An-lise-de-dados-2/blob/main/An%C3%A1lise_de_dados_2.ipynb\" target=\"_parent\"><img src=\"https://colab.research.google.com/assets/colab-badge.svg\" alt=\"Open In Colab\"/></a>"
      ]
    },
    {
      "cell_type": "markdown",
      "source": [
        "# EFICIÊNCIA DE UMA TURBINA EÓLICA"
      ],
      "metadata": {
        "id": "INTtCcQqRLnp"
      }
    },
    {
      "cell_type": "code",
      "execution_count": 65,
      "metadata": {
        "id": "_DceX5dIwoFa"
      },
      "outputs": [],
      "source": [
        "# IMPORTAR AS BIBLIOTECAS NECESSARIAS\n",
        "import pandas as pd\n",
        "import matplotlib.pyplot as plt\n",
        "from matplotlib.pyplot import figure\n",
        "import seaborn as sns"
      ]
    },
    {
      "cell_type": "code",
      "source": [
        "# CARREGAR A BASE DE DADOS\n",
        "data = pd.read_csv('/content/drive/MyDrive/T1.csv')\n",
        "# RENOMEAR AS COLUNAS \n",
        "data.columns=['data/hora', 'potência(kW)', 'velocidade_vento(m/s)', 'curva_teórica(kwh)', 'direção_vento(°)']\n",
        "# EXCLUIR DA BASE DE DADOS A COLUNA direção_vento(°)\n",
        "del data['direção_vento(°)']\n",
        "# CONVERTER A COLUNA data/hora DO TIPO STRING PARA TIPO DATA\n",
        "data ['data/hora'] = pd.to_datetime(data['data/hora'])\n",
        "# MOSTRAR O DATASET\n",
        "display(data)"
      ],
      "metadata": {
        "id": "mDvsm3BUx3jq",
        "colab": {
          "base_uri": "https://localhost:8080/",
          "height": 424
        },
        "outputId": "dceac153-4787-45dd-a58f-389cb2fd4690"
      },
      "execution_count": 66,
      "outputs": [
        {
          "output_type": "display_data",
          "data": {
            "text/plain": [
              "                data/hora  potência(kW)  velocidade_vento(m/s)  \\\n",
              "0     2018-01-01 00:00:00    380.047791               5.311336   \n",
              "1     2018-01-01 00:10:00    453.769196               5.672167   \n",
              "2     2018-01-01 00:20:00    306.376587               5.216037   \n",
              "3     2018-01-01 00:30:00    419.645905               5.659674   \n",
              "4     2018-01-01 00:40:00    380.650696               5.577941   \n",
              "...                   ...           ...                    ...   \n",
              "50525 2018-12-31 23:10:00   2963.980957              11.404030   \n",
              "50526 2018-12-31 23:20:00   1684.353027               7.332648   \n",
              "50527 2018-12-31 23:30:00   2201.106934               8.435358   \n",
              "50528 2018-12-31 23:40:00   2515.694092               9.421366   \n",
              "50529 2018-12-31 23:50:00   2820.466064               9.979332   \n",
              "\n",
              "       curva_teórica(kwh)  \n",
              "0              416.328908  \n",
              "1              519.917511  \n",
              "2              390.900016  \n",
              "3              516.127569  \n",
              "4              491.702972  \n",
              "...                   ...  \n",
              "50525         3397.190793  \n",
              "50526         1173.055771  \n",
              "50527         1788.284755  \n",
              "50528         2418.382503  \n",
              "50529         2779.184096  \n",
              "\n",
              "[50530 rows x 4 columns]"
            ],
            "text/html": [
              "\n",
              "  <div id=\"df-fc957769-a866-44ae-af0f-a787c94c0f75\">\n",
              "    <div class=\"colab-df-container\">\n",
              "      <div>\n",
              "<style scoped>\n",
              "    .dataframe tbody tr th:only-of-type {\n",
              "        vertical-align: middle;\n",
              "    }\n",
              "\n",
              "    .dataframe tbody tr th {\n",
              "        vertical-align: top;\n",
              "    }\n",
              "\n",
              "    .dataframe thead th {\n",
              "        text-align: right;\n",
              "    }\n",
              "</style>\n",
              "<table border=\"1\" class=\"dataframe\">\n",
              "  <thead>\n",
              "    <tr style=\"text-align: right;\">\n",
              "      <th></th>\n",
              "      <th>data/hora</th>\n",
              "      <th>potência(kW)</th>\n",
              "      <th>velocidade_vento(m/s)</th>\n",
              "      <th>curva_teórica(kwh)</th>\n",
              "    </tr>\n",
              "  </thead>\n",
              "  <tbody>\n",
              "    <tr>\n",
              "      <th>0</th>\n",
              "      <td>2018-01-01 00:00:00</td>\n",
              "      <td>380.047791</td>\n",
              "      <td>5.311336</td>\n",
              "      <td>416.328908</td>\n",
              "    </tr>\n",
              "    <tr>\n",
              "      <th>1</th>\n",
              "      <td>2018-01-01 00:10:00</td>\n",
              "      <td>453.769196</td>\n",
              "      <td>5.672167</td>\n",
              "      <td>519.917511</td>\n",
              "    </tr>\n",
              "    <tr>\n",
              "      <th>2</th>\n",
              "      <td>2018-01-01 00:20:00</td>\n",
              "      <td>306.376587</td>\n",
              "      <td>5.216037</td>\n",
              "      <td>390.900016</td>\n",
              "    </tr>\n",
              "    <tr>\n",
              "      <th>3</th>\n",
              "      <td>2018-01-01 00:30:00</td>\n",
              "      <td>419.645905</td>\n",
              "      <td>5.659674</td>\n",
              "      <td>516.127569</td>\n",
              "    </tr>\n",
              "    <tr>\n",
              "      <th>4</th>\n",
              "      <td>2018-01-01 00:40:00</td>\n",
              "      <td>380.650696</td>\n",
              "      <td>5.577941</td>\n",
              "      <td>491.702972</td>\n",
              "    </tr>\n",
              "    <tr>\n",
              "      <th>...</th>\n",
              "      <td>...</td>\n",
              "      <td>...</td>\n",
              "      <td>...</td>\n",
              "      <td>...</td>\n",
              "    </tr>\n",
              "    <tr>\n",
              "      <th>50525</th>\n",
              "      <td>2018-12-31 23:10:00</td>\n",
              "      <td>2963.980957</td>\n",
              "      <td>11.404030</td>\n",
              "      <td>3397.190793</td>\n",
              "    </tr>\n",
              "    <tr>\n",
              "      <th>50526</th>\n",
              "      <td>2018-12-31 23:20:00</td>\n",
              "      <td>1684.353027</td>\n",
              "      <td>7.332648</td>\n",
              "      <td>1173.055771</td>\n",
              "    </tr>\n",
              "    <tr>\n",
              "      <th>50527</th>\n",
              "      <td>2018-12-31 23:30:00</td>\n",
              "      <td>2201.106934</td>\n",
              "      <td>8.435358</td>\n",
              "      <td>1788.284755</td>\n",
              "    </tr>\n",
              "    <tr>\n",
              "      <th>50528</th>\n",
              "      <td>2018-12-31 23:40:00</td>\n",
              "      <td>2515.694092</td>\n",
              "      <td>9.421366</td>\n",
              "      <td>2418.382503</td>\n",
              "    </tr>\n",
              "    <tr>\n",
              "      <th>50529</th>\n",
              "      <td>2018-12-31 23:50:00</td>\n",
              "      <td>2820.466064</td>\n",
              "      <td>9.979332</td>\n",
              "      <td>2779.184096</td>\n",
              "    </tr>\n",
              "  </tbody>\n",
              "</table>\n",
              "<p>50530 rows × 4 columns</p>\n",
              "</div>\n",
              "      <button class=\"colab-df-convert\" onclick=\"convertToInteractive('df-fc957769-a866-44ae-af0f-a787c94c0f75')\"\n",
              "              title=\"Convert this dataframe to an interactive table.\"\n",
              "              style=\"display:none;\">\n",
              "        \n",
              "  <svg xmlns=\"http://www.w3.org/2000/svg\" height=\"24px\"viewBox=\"0 0 24 24\"\n",
              "       width=\"24px\">\n",
              "    <path d=\"M0 0h24v24H0V0z\" fill=\"none\"/>\n",
              "    <path d=\"M18.56 5.44l.94 2.06.94-2.06 2.06-.94-2.06-.94-.94-2.06-.94 2.06-2.06.94zm-11 1L8.5 8.5l.94-2.06 2.06-.94-2.06-.94L8.5 2.5l-.94 2.06-2.06.94zm10 10l.94 2.06.94-2.06 2.06-.94-2.06-.94-.94-2.06-.94 2.06-2.06.94z\"/><path d=\"M17.41 7.96l-1.37-1.37c-.4-.4-.92-.59-1.43-.59-.52 0-1.04.2-1.43.59L10.3 9.45l-7.72 7.72c-.78.78-.78 2.05 0 2.83L4 21.41c.39.39.9.59 1.41.59.51 0 1.02-.2 1.41-.59l7.78-7.78 2.81-2.81c.8-.78.8-2.07 0-2.86zM5.41 20L4 18.59l7.72-7.72 1.47 1.35L5.41 20z\"/>\n",
              "  </svg>\n",
              "      </button>\n",
              "      \n",
              "  <style>\n",
              "    .colab-df-container {\n",
              "      display:flex;\n",
              "      flex-wrap:wrap;\n",
              "      gap: 12px;\n",
              "    }\n",
              "\n",
              "    .colab-df-convert {\n",
              "      background-color: #E8F0FE;\n",
              "      border: none;\n",
              "      border-radius: 50%;\n",
              "      cursor: pointer;\n",
              "      display: none;\n",
              "      fill: #1967D2;\n",
              "      height: 32px;\n",
              "      padding: 0 0 0 0;\n",
              "      width: 32px;\n",
              "    }\n",
              "\n",
              "    .colab-df-convert:hover {\n",
              "      background-color: #E2EBFA;\n",
              "      box-shadow: 0px 1px 2px rgba(60, 64, 67, 0.3), 0px 1px 3px 1px rgba(60, 64, 67, 0.15);\n",
              "      fill: #174EA6;\n",
              "    }\n",
              "\n",
              "    [theme=dark] .colab-df-convert {\n",
              "      background-color: #3B4455;\n",
              "      fill: #D2E3FC;\n",
              "    }\n",
              "\n",
              "    [theme=dark] .colab-df-convert:hover {\n",
              "      background-color: #434B5C;\n",
              "      box-shadow: 0px 1px 3px 1px rgba(0, 0, 0, 0.15);\n",
              "      filter: drop-shadow(0px 1px 2px rgba(0, 0, 0, 0.3));\n",
              "      fill: #FFFFFF;\n",
              "    }\n",
              "  </style>\n",
              "\n",
              "      <script>\n",
              "        const buttonEl =\n",
              "          document.querySelector('#df-fc957769-a866-44ae-af0f-a787c94c0f75 button.colab-df-convert');\n",
              "        buttonEl.style.display =\n",
              "          google.colab.kernel.accessAllowed ? 'block' : 'none';\n",
              "\n",
              "        async function convertToInteractive(key) {\n",
              "          const element = document.querySelector('#df-fc957769-a866-44ae-af0f-a787c94c0f75');\n",
              "          const dataTable =\n",
              "            await google.colab.kernel.invokeFunction('convertToInteractive',\n",
              "                                                     [key], {});\n",
              "          if (!dataTable) return;\n",
              "\n",
              "          const docLinkHtml = 'Like what you see? Visit the ' +\n",
              "            '<a target=\"_blank\" href=https://colab.research.google.com/notebooks/data_table.ipynb>data table notebook</a>'\n",
              "            + ' to learn more about interactive tables.';\n",
              "          element.innerHTML = '';\n",
              "          dataTable['output_type'] = 'display_data';\n",
              "          await google.colab.output.renderOutput(dataTable, element);\n",
              "          const docLink = document.createElement('div');\n",
              "          docLink.innerHTML = docLinkHtml;\n",
              "          element.appendChild(docLink);\n",
              "        }\n",
              "      </script>\n",
              "    </div>\n",
              "  </div>\n",
              "  "
            ]
          },
          "metadata": {}
        }
      ]
    },
    {
      "cell_type": "markdown",
      "source": [
        "# VISUALIZAR EM GRÁFICOS"
      ],
      "metadata": {
        "id": "RWtlOdQJCPU4"
      }
    },
    {
      "cell_type": "code",
      "source": [
        "# GERAR GRÁFICO USANDO O SEABORN\n",
        "sns.scatterplot(data = data, x = 'velocidade_vento(m/s)', y = 'potência(kW)')"
      ],
      "metadata": {
        "colab": {
          "base_uri": "https://localhost:8080/",
          "height": 297
        },
        "id": "uAkMLGVeAiwF",
        "outputId": "3da18a2f-5e31-4b43-eeac-a0999e0c9954"
      },
      "execution_count": 67,
      "outputs": [
        {
          "output_type": "execute_result",
          "data": {
            "text/plain": [
              "<matplotlib.axes._subplots.AxesSubplot at 0x7f80bbfdd2d0>"
            ]
          },
          "metadata": {},
          "execution_count": 67
        },
        {
          "output_type": "display_data",
          "data": {
            "text/plain": [
              "<Figure size 432x288 with 1 Axes>"
            ],
            "image/png": "[encoded data removed]"
          },
          "metadata": {
            "needs_background": "light"
          }
        }
      ]
    },
    {
      "cell_type": "code",
      "source": [
        "# VISUALIZAR NO GRÁFICO A CURVA TEÓRICA\n",
        "# CURVA TEÓRICA É O MODELO DEFINIDO PELA FÁBRICA DE EFICIÊNCIA DA TURBINA PARA GERAÇÃO DE ENERGIA A PARTIR DA VELOCIDADE DO VENTO\n",
        "sns.scatterplot(data = data, x = 'velocidade_vento(m/s)', y = 'curva_teórica(kwh)')"
      ],
      "metadata": {
        "colab": {
          "base_uri": "https://localhost:8080/",
          "height": 297
        },
        "id": "Vo18bI-pDUIc",
        "outputId": "40b9baef-d0b4-42cc-fbc0-5a6186fbdb3a"
      },
      "execution_count": 68,
      "outputs": [
        {
          "output_type": "execute_result",
          "data": {
            "text/plain": [
              "<matplotlib.axes._subplots.AxesSubplot at 0x7f80bdb977d0>"
            ]
          },
          "metadata": {},
          "execution_count": 68
        },
        {
          "output_type": "display_data",
          "data": {
            "text/plain": [
              "<Figure size 432x288 with 1 Axes>"
            ],
            "image/png": "[encoded data removed]"
          },
          "metadata": {
            "needs_background": "light"
          }
        }
      ]
    },
    {
      "cell_type": "markdown",
      "source": [
        "## CRIANDO LIMITES ACEITÁVEIS"
      ],
      "metadata": {
        "id": "7wDQNG4oFETx"
      }
    },
    {
      "cell_type": "code",
      "source": [
        "# PEGAR A COLUNA potência(kW) E curva_teórica(kwh) E TRANSFORMAR EM LISTA\n",
        "potência_real = data ['potência(kW)'].tolist()\n",
        "potência_teórica = data ['curva_teórica(kwh)'].tolist()\n",
        "# MOSTRAR AS 10 PRIMEIRAS LISTAS\n",
        "print(potência_real[0:10])"
      ],
      "metadata": {
        "colab": {
          "base_uri": "https://localhost:8080/"
        },
        "id": "Zn7JJf2AFCF8",
        "outputId": "c89753af-60e9-4c33-a95e-5e84a3683219"
      },
      "execution_count": 69,
      "outputs": [
        {
          "output_type": "stream",
          "name": "stdout",
          "text": [
            "[380.047790527343, 453.76919555664, 306.376586914062, 419.645904541015, 380.650695800781, 402.391998291015, 447.605712890625, 387.2421875, 463.651214599609, 439.725708007812]\n"
          ]
        }
      ]
    },
    {
      "cell_type": "code",
      "source": [
        "# PEGAR A COLUNA potência(kW) E curva_teórica(kwh) E TRANSFORMAR EM LISTA\n",
        "potência_real = data ['potência(kW)'].tolist()\n",
        "potência_teórica = data ['curva_teórica(kwh)'].tolist()\n",
        "# CRIAR LISTAS VAZIAS\n",
        "potência_max = []\n",
        "potência_min = []\n",
        "dentro_limite = []\n",
        "\n",
        "# CRIAR UMA CONDIÇÃO FOR DE REPETIÇÃO\n",
        "for potência in potência_teórica:\n",
        "# PARA CADA VALOR DENTRO DA CURVA TEÓRICA, VAI ADICIONAR + 5% PARA CIMA E - 5% PARA BAIXO E SALVAR ESSES VALORES AS VARIAVÉIS POTÊNCIA_MAX E POTÊNCIA_MIN\n",
        "  potência_max.append(potência * 1.05)\n",
        "  potência_min.append(potência * 0.95)\n",
        "\n",
        "# DEFINIR UM LIMITE DE EFICIÊNCIA\n",
        "for i, potência in enumerate(potência_real):\n",
        "  if potência >= potência_min [i] and potência <= potência_max [i]:\n",
        "    dentro_limite.append ('Dentro')\n",
        "  elif potência ==0:\n",
        "    dentro_limite.append ('Zero')\n",
        "  else:\n",
        "    dentro_limite.append ('Fora')\n",
        "\n",
        "# CONTAR DE TODA A LISTA QUANTOS ESTÃO DENTRO DOS LIMITES ESTABELECIDOS\n",
        "print(dentro_limite.count ('Dentro')/ len(dentro_limite))\n"
      ],
      "metadata": {
        "colab": {
          "base_uri": "https://localhost:8080/"
        },
        "id": "raD4FVT2GvaD",
        "outputId": "75450926-c0e1-43c6-e1f3-1095f2c6c912"
      },
      "execution_count": 70,
      "outputs": [
        {
          "output_type": "stream",
          "name": "stdout",
          "text": [
            "0.37286760340391845\n"
          ]
        }
      ]
    },
    {
      "cell_type": "code",
      "source": [
        "# VERIFICAR SI AS LINHAS ESTÃO IGUAIS\n",
        "print(len(potência_max), len(potência_min), len(potência_teórica))"
      ],
      "metadata": {
        "colab": {
          "base_uri": "https://localhost:8080/"
        },
        "id": "z747vRMITBxH",
        "outputId": "ffc2ca29-31e8-41f6-99fd-19b1cc9984e9"
      },
      "execution_count": 71,
      "outputs": [
        {
          "output_type": "stream",
          "name": "stdout",
          "text": [
            "50530 50530 50530\n"
          ]
        }
      ]
    },
    {
      "cell_type": "markdown",
      "source": [
        "## ADICIONAR A LISTA 'dentro_limite' AO DATAFRAME"
      ],
      "metadata": {
        "id": "fkqnLyXGNcGz"
      }
    },
    {
      "cell_type": "code",
      "source": [
        "# CRIAR UMA NOVA COLUNA PARA O DATAFRAME\n",
        "data ['Dentro Limite'] = dentro_limite\n",
        "display (data)"
      ],
      "metadata": {
        "colab": {
          "base_uri": "https://localhost:8080/",
          "height": 424
        },
        "id": "QQAviGtDHqN3",
        "outputId": "56b444be-9bcd-425b-ad31-49fa31b121bd"
      },
      "execution_count": 72,
      "outputs": [
        {
          "output_type": "display_data",
          "data": {
            "text/plain": [
              "                data/hora  potência(kW)  velocidade_vento(m/s)  \\\n",
              "0     2018-01-01 00:00:00    380.047791               5.311336   \n",
              "1     2018-01-01 00:10:00    453.769196               5.672167   \n",
              "2     2018-01-01 00:20:00    306.376587               5.216037   \n",
              "3     2018-01-01 00:30:00    419.645905               5.659674   \n",
              "4     2018-01-01 00:40:00    380.650696               5.577941   \n",
              "...                   ...           ...                    ...   \n",
              "50525 2018-12-31 23:10:00   2963.980957              11.404030   \n",
              "50526 2018-12-31 23:20:00   1684.353027               7.332648   \n",
              "50527 2018-12-31 23:30:00   2201.106934               8.435358   \n",
              "50528 2018-12-31 23:40:00   2515.694092               9.421366   \n",
              "50529 2018-12-31 23:50:00   2820.466064               9.979332   \n",
              "\n",
              "       curva_teórica(kwh) Dentro Limite  \n",
              "0              416.328908          Fora  \n",
              "1              519.917511          Fora  \n",
              "2              390.900016          Fora  \n",
              "3              516.127569          Fora  \n",
              "4              491.702972          Fora  \n",
              "...                   ...           ...  \n",
              "50525         3397.190793          Fora  \n",
              "50526         1173.055771          Fora  \n",
              "50527         1788.284755          Fora  \n",
              "50528         2418.382503        Dentro  \n",
              "50529         2779.184096        Dentro  \n",
              "\n",
              "[50530 rows x 5 columns]"
            ],
            "text/html": [
              "\n",
              "  <div id=\"df-3cf038d1-4f2e-47de-8d87-9fc3293182b1\">\n",
              "    <div class=\"colab-df-container\">\n",
              "      <div>\n",
              "<style scoped>\n",
              "    .dataframe tbody tr th:only-of-type {\n",
              "        vertical-align: middle;\n",
              "    }\n",
              "\n",
              "    .dataframe tbody tr th {\n",
              "        vertical-align: top;\n",
              "    }\n",
              "\n",
              "    .dataframe thead th {\n",
              "        text-align: right;\n",
              "    }\n",
              "</style>\n",
              "<table border=\"1\" class=\"dataframe\">\n",
              "  <thead>\n",
              "    <tr style=\"text-align: right;\">\n",
              "      <th></th>\n",
              "      <th>data/hora</th>\n",
              "      <th>potência(kW)</th>\n",
              "      <th>velocidade_vento(m/s)</th>\n",
              "      <th>curva_teórica(kwh)</th>\n",
              "      <th>Dentro Limite</th>\n",
              "    </tr>\n",
              "  </thead>\n",
              "  <tbody>\n",
              "    <tr>\n",
              "      <th>0</th>\n",
              "      <td>2018-01-01 00:00:00</td>\n",
              "      <td>380.047791</td>\n",
              "      <td>5.311336</td>\n",
              "      <td>416.328908</td>\n",
              "      <td>Fora</td>\n",
              "    </tr>\n",
              "    <tr>\n",
              "      <th>1</th>\n",
              "      <td>2018-01-01 00:10:00</td>\n",
              "      <td>453.769196</td>\n",
              "      <td>5.672167</td>\n",
              "      <td>519.917511</td>\n",
              "      <td>Fora</td>\n",
              "    </tr>\n",
              "    <tr>\n",
              "      <th>2</th>\n",
              "      <td>2018-01-01 00:20:00</td>\n",
              "      <td>306.376587</td>\n",
              "      <td>5.216037</td>\n",
              "      <td>390.900016</td>\n",
              "      <td>Fora</td>\n",
              "    </tr>\n",
              "    <tr>\n",
              "      <th>3</th>\n",
              "      <td>2018-01-01 00:30:00</td>\n",
              "      <td>419.645905</td>\n",
              "      <td>5.659674</td>\n",
              "      <td>516.127569</td>\n",
              "      <td>Fora</td>\n",
              "    </tr>\n",
              "    <tr>\n",
              "      <th>4</th>\n",
              "      <td>2018-01-01 00:40:00</td>\n",
              "      <td>380.650696</td>\n",
              "      <td>5.577941</td>\n",
              "      <td>491.702972</td>\n",
              "      <td>Fora</td>\n",
              "    </tr>\n",
              "    <tr>\n",
              "      <th>...</th>\n",
              "      <td>...</td>\n",
              "      <td>...</td>\n",
              "      <td>...</td>\n",
              "      <td>...</td>\n",
              "      <td>...</td>\n",
              "    </tr>\n",
              "    <tr>\n",
              "      <th>50525</th>\n",
              "      <td>2018-12-31 23:10:00</td>\n",
              "      <td>2963.980957</td>\n",
              "      <td>11.404030</td>\n",
              "      <td>3397.190793</td>\n",
              "      <td>Fora</td>\n",
              "    </tr>\n",
              "    <tr>\n",
              "      <th>50526</th>\n",
              "      <td>2018-12-31 23:20:00</td>\n",
              "      <td>1684.353027</td>\n",
              "      <td>7.332648</td>\n",
              "      <td>1173.055771</td>\n",
              "      <td>Fora</td>\n",
              "    </tr>\n",
              "    <tr>\n",
              "      <th>50527</th>\n",
              "      <td>2018-12-31 23:30:00</td>\n",
              "      <td>2201.106934</td>\n",
              "      <td>8.435358</td>\n",
              "      <td>1788.284755</td>\n",
              "      <td>Fora</td>\n",
              "    </tr>\n",
              "    <tr>\n",
              "      <th>50528</th>\n",
              "      <td>2018-12-31 23:40:00</td>\n",
              "      <td>2515.694092</td>\n",
              "      <td>9.421366</td>\n",
              "      <td>2418.382503</td>\n",
              "      <td>Dentro</td>\n",
              "    </tr>\n",
              "    <tr>\n",
              "      <th>50529</th>\n",
              "      <td>2018-12-31 23:50:00</td>\n",
              "      <td>2820.466064</td>\n",
              "      <td>9.979332</td>\n",
              "      <td>2779.184096</td>\n",
              "      <td>Dentro</td>\n",
              "    </tr>\n",
              "  </tbody>\n",
              "</table>\n",
              "<p>50530 rows × 5 columns</p>\n",
              "</div>\n",
              "      <button class=\"colab-df-convert\" onclick=\"convertToInteractive('df-3cf038d1-4f2e-47de-8d87-9fc3293182b1')\"\n",
              "              title=\"Convert this dataframe to an interactive table.\"\n",
              "              style=\"display:none;\">\n",
              "        \n",
              "  <svg xmlns=\"http://www.w3.org/2000/svg\" height=\"24px\"viewBox=\"0 0 24 24\"\n",
              "       width=\"24px\">\n",
              "    <path d=\"M0 0h24v24H0V0z\" fill=\"none\"/>\n",
              "    <path d=\"M18.56 5.44l.94 2.06.94-2.06 2.06-.94-2.06-.94-.94-2.06-.94 2.06-2.06.94zm-11 1L8.5 8.5l.94-2.06 2.06-.94-2.06-.94L8.5 2.5l-.94 2.06-2.06.94zm10 10l.94 2.06.94-2.06 2.06-.94-2.06-.94-.94-2.06-.94 2.06-2.06.94z\"/><path d=\"M17.41 7.96l-1.37-1.37c-.4-.4-.92-.59-1.43-.59-.52 0-1.04.2-1.43.59L10.3 9.45l-7.72 7.72c-.78.78-.78 2.05 0 2.83L4 21.41c.39.39.9.59 1.41.59.51 0 1.02-.2 1.41-.59l7.78-7.78 2.81-2.81c.8-.78.8-2.07 0-2.86zM5.41 20L4 18.59l7.72-7.72 1.47 1.35L5.41 20z\"/>\n",
              "  </svg>\n",
              "      </button>\n",
              "      \n",
              "  <style>\n",
              "    .colab-df-container {\n",
              "      display:flex;\n",
              "      flex-wrap:wrap;\n",
              "      gap: 12px;\n",
              "    }\n",
              "\n",
              "    .colab-df-convert {\n",
              "      background-color: #E8F0FE;\n",
              "      border: none;\n",
              "      border-radius: 50%;\n",
              "      cursor: pointer;\n",
              "      display: none;\n",
              "      fill: #1967D2;\n",
              "      height: 32px;\n",
              "      padding: 0 0 0 0;\n",
              "      width: 32px;\n",
              "    }\n",
              "\n",
              "    .colab-df-convert:hover {\n",
              "      background-color: #E2EBFA;\n",
              "      box-shadow: 0px 1px 2px rgba(60, 64, 67, 0.3), 0px 1px 3px 1px rgba(60, 64, 67, 0.15);\n",
              "      fill: #174EA6;\n",
              "    }\n",
              "\n",
              "    [theme=dark] .colab-df-convert {\n",
              "      background-color: #3B4455;\n",
              "      fill: #D2E3FC;\n",
              "    }\n",
              "\n",
              "    [theme=dark] .colab-df-convert:hover {\n",
              "      background-color: #434B5C;\n",
              "      box-shadow: 0px 1px 3px 1px rgba(0, 0, 0, 0.15);\n",
              "      filter: drop-shadow(0px 1px 2px rgba(0, 0, 0, 0.3));\n",
              "      fill: #FFFFFF;\n",
              "    }\n",
              "  </style>\n",
              "\n",
              "      <script>\n",
              "        const buttonEl =\n",
              "          document.querySelector('#df-3cf038d1-4f2e-47de-8d87-9fc3293182b1 button.colab-df-convert');\n",
              "        buttonEl.style.display =\n",
              "          google.colab.kernel.accessAllowed ? 'block' : 'none';\n",
              "\n",
              "        async function convertToInteractive(key) {\n",
              "          const element = document.querySelector('#df-3cf038d1-4f2e-47de-8d87-9fc3293182b1');\n",
              "          const dataTable =\n",
              "            await google.colab.kernel.invokeFunction('convertToInteractive',\n",
              "                                                     [key], {});\n",
              "          if (!dataTable) return;\n",
              "\n",
              "          const docLinkHtml = 'Like what you see? Visit the ' +\n",
              "            '<a target=\"_blank\" href=https://colab.research.google.com/notebooks/data_table.ipynb>data table notebook</a>'\n",
              "            + ' to learn more about interactive tables.';\n",
              "          element.innerHTML = '';\n",
              "          dataTable['output_type'] = 'display_data';\n",
              "          await google.colab.output.renderOutput(dataTable, element);\n",
              "          const docLink = document.createElement('div');\n",
              "          docLink.innerHTML = docLinkHtml;\n",
              "          element.appendChild(docLink);\n",
              "        }\n",
              "      </script>\n",
              "    </div>\n",
              "  </div>\n",
              "  "
            ]
          },
          "metadata": {}
        }
      ]
    },
    {
      "cell_type": "markdown",
      "source": [
        "## RESULTADO FINAL EM GRÁFICO"
      ],
      "metadata": {
        "id": "4EH2E-_8RA_D"
      }
    },
    {
      "cell_type": "code",
      "source": [
        "# CRIAR UMA VARIÁVEL PARA DEFINIR AS CORES DO GRÁFICO\n",
        "cores = {'Dentro':'blue', 'Fora':'red', 'Zero':'orange'}\n",
        "# COM SEABORN DEFINO O X,Y, MINHA MATIZ O TAMANHO DAS BOLINHAS E AS CORES DO GRÁFICO\n",
        "sns.scatterplot(data = data, x = 'velocidade_vento(m/s)', y = 'potência(kW)', hue='Dentro Limite', s=1, palette=cores)"
      ],
      "metadata": {
        "colab": {
          "base_uri": "https://localhost:8080/",
          "height": 297
        },
        "id": "OM00J-boOHq_",
        "outputId": "92c0ff73-c1e5-4de2-9602-8342ac877817"
      },
      "execution_count": 73,
      "outputs": [
        {
          "output_type": "execute_result",
          "data": {
            "text/plain": [
              "<matplotlib.axes._subplots.AxesSubplot at 0x7f80be876410>"
            ]
          },
          "metadata": {},
          "execution_count": 73
        },
        {
          "output_type": "display_data",
          "data": {
            "text/plain": [
              "<Figure size 432x288 with 1 Axes>"
            ],
            "image/png": "[encoded data removed]"
          },
          "metadata": {
            "needs_background": "light"
          }
        }
      ]
    }
  ]
}